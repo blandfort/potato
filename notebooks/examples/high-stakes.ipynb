{
 "cells": [
  {
   "cell_type": "markdown",
   "id": "39333c3c",
   "metadata": {},
   "source": [
    "# High-stakes Probe\n",
    "\n",
    "This notebook trains a deception probe as described in [McKenzie et al. 2025](https://arxiv.org/abs/2506.10805v2) (using a different training dataset)."
   ]
  },
  {
   "cell_type": "code",
   "execution_count": null,
   "id": "53527687",
   "metadata": {},
   "outputs": [],
   "source": [
    "# Basic Configuration\n",
    "from potato.config import DATA_DIR, LOCAL_MODELS\n",
    "\n",
    "\n",
    "model_name = LOCAL_MODELS[\"llama-1b\"]\n",
    "layer = 11\n",
    "\n",
    "CONCEPT = \"high-stakes\"\n",
    "CONCEPT_DIR = DATA_DIR / CONCEPT\n",
    "PROBE_PATH = CONCEPT_DIR / f\"{CONCEPT}_probe.pkl\"\n",
    "\n",
    "pos_class_label = \"high-stakes\"\n",
    "neg_class_label = \"low-stakes\"\n",
    "probe_description = f\"A linear probe on {model_name} detecting whether the conversation is high-stakes.\""
   ]
  },
  {
   "cell_type": "markdown",
   "id": "26df43fd",
   "metadata": {},
   "source": [
    "## Dataset Creation"
   ]
  },
  {
   "cell_type": "code",
   "execution_count": null,
   "id": "550bdfbf",
   "metadata": {},
   "outputs": [],
   "source": [
    "from potato.utils import create_train_test_split\n",
    "from potato.interfaces.dataset import (\n",
    "    LabelledDataset,\n",
    "    Message,\n",
    ")\n",
    "\n",
    "stakes_dataset = CONCEPT_DIR / \"combined_deployment_22_04_25.jsonl\"\n",
    "dataset = LabelledDataset.load_from(stakes_dataset)\n",
    "train_dataset, validation_dataset = create_train_test_split(\n",
    "    dataset, split_field=\"pair_id\"\n",
    ")\n",
    "\n",
    "print(f\"Read {len(train_dataset)} samples for training and {len(validation_dataset)} samples for validation.\")"
   ]
  },
  {
   "cell_type": "markdown",
   "id": "23a47be2",
   "metadata": {},
   "source": [
    "## Training"
   ]
  },
  {
   "cell_type": "code",
   "execution_count": null,
   "id": "db490096",
   "metadata": {},
   "outputs": [],
   "source": [
    "from potato.training import train_probe\n",
    "from potato.interfaces.probes import ProbeSpec, ProbeType\n",
    "\n",
    "\n",
    "probe = train_probe(\n",
    "    train_dataset,\n",
    "    validation_dataset,\n",
    "    model_name,\n",
    "    layer,\n",
    "    start_turn_index=0,  # Include system and user message\n",
    "    apply_transformations_to_validation_dataset=True,\n",
    "    pos_class_label=pos_class_label,\n",
    "    neg_class_label=neg_class_label,\n",
    "    probe_description=probe_description,\n",
    "    probe_spec=ProbeSpec(\n",
    "        # name=ProbeType.sklearn,\n",
    "        # hyperparams={},\n",
    "        name=ProbeType.linear_then_mean,\n",
    "        hyperparams={\n",
    "            \"batch_size\": 8,\n",
    "            \"epochs\": 200,\n",
    "            \"optimizer_args\": {\"lr\": 1e-3, \"weight_decay\": 1e-2},\n",
    "            \"final_lr\": 1e-4,\n",
    "            \"gradient_accumulation_steps\": 1,\n",
    "            \"patience\": 100,\n",
    "            \"temperature\": 0.1,\n",
    "        },\n",
    "    ),\n",
    ")"
   ]
  },
  {
   "cell_type": "code",
   "execution_count": null,
   "id": "6c62278f",
   "metadata": {},
   "outputs": [],
   "source": [
    "# Store the probe\n",
    "import pickle\n",
    "\n",
    "pickle.dump(probe, open(PROBE_PATH, \"wb\"))"
   ]
  },
  {
   "cell_type": "markdown",
   "id": "31c18b1d",
   "metadata": {},
   "source": [
    "## Loading and Evaluating"
   ]
  },
  {
   "cell_type": "code",
   "execution_count": null,
   "id": "156cf7ec",
   "metadata": {},
   "outputs": [],
   "source": [
    "from potato.model import LLMModel\n",
    "\n",
    "probe = pickle.load(open(PROBE_PATH, \"rb\"))\n",
    "assert probe.model_name is not None\n",
    "assert probe.layer is not None\n",
    "print(\"Probe initialized:\")\n",
    "print(probe.description)\n",
    "\n",
    "# Initialize the model so we can compute activations\n",
    "model = LLMModel.load(probe.model_name)"
   ]
  },
  {
   "cell_type": "code",
   "execution_count": null,
   "id": "93f606aa",
   "metadata": {},
   "outputs": [],
   "source": [
    "import yaml\n",
    "\n",
    "# Load test inputs from YAML\n",
    "with open(CONCEPT_DIR / \"test_inputs.yaml\") as f:\n",
    "    raw_inputs = yaml.safe_load(f)\n",
    "inputs = [[Message(**msg) for msg in pair] for pair in raw_inputs]\n",
    "\n",
    "preds = probe.predict_proba_from_inputs(inputs, model=model)\n",
    "for i in range(len(preds)):\n",
    "    print(f\"Sample {i}: {preds[i]}\")\n",
    "    print(f\"Input: {inputs[i]}\")\n",
    "    print()"
   ]
  },
  {
   "cell_type": "code",
   "execution_count": null,
   "id": "60732280",
   "metadata": {},
   "outputs": [],
   "source": [
    "# Verifying that the probe works with activation tensors\n",
    "\n",
    "# NOTE To apply the probe to a HF transformer directly, get the activations tensor\n",
    "# from activations before layer norm. Either process one item at a time or make sure\n",
    "# to apply the attention mask.\n",
    "from potato.probes.pytorch_probes import filter_activations_by_turns\n",
    "\n",
    "for inp in inputs:\n",
    "    activations = model.get_activations([inp], layer=probe.layer)\n",
    "\n",
    "    activations = filter_activations_by_turns(\n",
    "        activations=activations,\n",
    "        inputs=[inp],\n",
    "        model=model,\n",
    "        start_turn_index=probe.start_turn_index,\n",
    "        end_turn_index=probe.end_turn_index,\n",
    "    )\n",
    "    print(probe.predict_proba_from_activations_tensor(activations.activations[0]))"
   ]
  }
 ],
 "metadata": {
  "kernelspec": {
   "display_name": ".venv",
   "language": "python",
   "name": "python3"
  },
  "language_info": {
   "codemirror_mode": {
    "name": "ipython",
    "version": 3
   },
   "file_extension": ".py",
   "mimetype": "text/x-python",
   "name": "python",
   "nbconvert_exporter": "python",
   "pygments_lexer": "ipython3",
   "version": "3.12.8"
  }
 },
 "nbformat": 4,
 "nbformat_minor": 5
}
